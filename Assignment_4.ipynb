{
  "nbformat": 4,
  "nbformat_minor": 0,
  "metadata": {
    "colab": {
      "name": "Assignment_4.ipynb",
      "provenance": [],
      "authorship_tag": "ABX9TyNHS08oGnESg4o4etT8BVmo",
      "include_colab_link": true
    },
    "kernelspec": {
      "name": "python3",
      "display_name": "Python 3"
    },
    "language_info": {
      "name": "python"
    }
  },
  "cells": [
    {
      "cell_type": "markdown",
      "metadata": {
        "id": "view-in-github",
        "colab_type": "text"
      },
      "source": [
        "<a href=\"https://colab.research.google.com/github/charlespeterdixon/Assignment-Submission-/blob/main/Assignment_4.ipynb\" target=\"_parent\"><img src=\"https://colab.research.google.com/assets/colab-badge.svg\" alt=\"Open In Colab\"/></a>"
      ]
    },
    {
      "cell_type": "code",
      "metadata": {
        "id": "ZkkfyzrwJ3lj"
      },
      "source": [
        "#Assignment_4"
      ],
      "execution_count": null,
      "outputs": []
    },
    {
      "cell_type": "markdown",
      "metadata": {
        "id": "PpqeInHWNVlp"
      },
      "source": [
        "You all are pilots, you have to land a plane, the altitude required for landing a plane is 1000ft, if it is less than that tell pilot to land the plane, or it is more than that but less than 5000ft ask the pilot to “come down to 1000ft”, else if it is more than 5000ft ask the pilot to “go around and try later.”\n",
        "\n",
        "  Example : Input - 1000 Output - Safe to land\n",
        "  Example : Input - 4500 Output - Bring down to 1000\n",
        "  Example : Input - 6500 Output - Turn Around\n"
      ]
    },
    {
      "cell_type": "code",
      "metadata": {
        "colab": {
          "base_uri": "https://localhost:8080/"
        },
        "id": "xU_rrrbVNawP",
        "outputId": "9675028b-f45a-4550-f6e3-9456f3253404"
      },
      "source": [
        "h = int(input(\"Enter your plane's height in ft \"))\n",
        "if h <= 1000:\n",
        "  print('Good to land! \\nYou can land the plane safely ')\n",
        "elif h > 1000 and h <=5000:\n",
        "  print('Please reduce the altitude to 1000ft!')\n",
        "else:\n",
        "  print('Turn around or try again later!')"
      ],
      "execution_count": 5,
      "outputs": [
        {
          "output_type": "stream",
          "text": [
            "Enter your plane's height in ft 6000\n",
            "Turn around or try again later!\n"
          ],
          "name": "stdout"
        }
      ]
    }
  ]
}