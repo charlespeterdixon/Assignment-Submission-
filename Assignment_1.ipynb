{
  "nbformat": 4,
  "nbformat_minor": 0,
  "metadata": {
    "colab": {
      "name": "Assignment_1.ipynb",
      "provenance": [],
      "authorship_tag": "ABX9TyPFSOFpNU72QXw1cwgDORVY",
      "include_colab_link": true
    },
    "kernelspec": {
      "name": "python3",
      "display_name": "Python 3"
    },
    "language_info": {
      "name": "python"
    }
  },
  "cells": [
    {
      "cell_type": "markdown",
      "metadata": {
        "id": "view-in-github",
        "colab_type": "text"
      },
      "source": [
        "<a href=\"https://colab.research.google.com/github/charlespeterdixon/Assignment-Submission-/blob/main/Assignment_1.ipynb\" target=\"_parent\"><img src=\"https://colab.research.google.com/assets/colab-badge.svg\" alt=\"Open In Colab\"/></a>"
      ]
    },
    {
      "cell_type": "code",
      "metadata": {
        "colab": {
          "base_uri": "https://localhost:8080/"
        },
        "id": "4tl-lrv2Whc4",
        "outputId": "b9118fcc-dad3-4ba6-d9e5-5da344caf1bc"
      },
      "source": [
        "# Build subtraction, multiplication and divide for calculator\n",
        "a = int ( input ('Enter your first number '))\n",
        "b = int ( input ('Enter your second number '))\n",
        "c = int ( input ('Enter your choice \\n 1. for - \\n 2. for x \\n 3. for / \\n'))\n",
        "if c==1:\n",
        "  print('Your subraction result is', (a-b))\n",
        "if c==2:\n",
        "  print('Your multiplication result is', (a*b))\n",
        "if c==3:\n",
        "  print('Your division result is',(a/b))\n",
        "else:\n",
        "  print('Wrong input')\n",
        "print('Thank you for your time')"
      ],
      "execution_count": 15,
      "outputs": [
        {
          "output_type": "stream",
          "text": [
            "Enter your first number 5\n",
            "Enter your second number 789\n",
            "Enter your choice \n",
            " 1. for - \n",
            " 2. for x \n",
            " 3. for / \n",
            "5\n",
            "Wrong input\n",
            "Thank you for your time\n"
          ],
          "name": "stdout"
        }
      ]
    }
  ]
}