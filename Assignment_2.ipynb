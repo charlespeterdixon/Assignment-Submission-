{
  "nbformat": 4,
  "nbformat_minor": 0,
  "metadata": {
    "colab": {
      "name": "Assignment_2.ipynb",
      "provenance": [],
      "authorship_tag": "ABX9TyNGu4l/77pgNi+HTeXWGbzW",
      "include_colab_link": true
    },
    "kernelspec": {
      "display_name": "Python 3",
      "name": "python3"
    },
    "language_info": {
      "name": "python"
    }
  },
  "cells": [
    {
      "cell_type": "markdown",
      "metadata": {
        "id": "view-in-github",
        "colab_type": "text"
      },
      "source": [
        "<a href=\"https://colab.research.google.com/github/charlespeterdixon/Assignment-Submission-/blob/main/Assignment_2.ipynb\" target=\"_parent\"><img src=\"https://colab.research.google.com/assets/colab-badge.svg\" alt=\"Open In Colab\"/></a>"
      ]
    },
    {
      "cell_type": "code",
      "metadata": {
        "colab": {
          "base_uri": "https://localhost:8080/"
        },
        "id": "CAu1hceytrHX",
        "outputId": "3cf0c671-3fbb-46f9-f2aa-8ff564308739"
      },
      "source": [
        "#Get random names of the people in the list using a for loop, \n",
        "#Maximum participant variable and input() function and then get your lottery run\n",
        "maxPlayers = int (input('Enter how many participants are playing the lottery '))\n",
        "participants=[]\n",
        "for i in range(maxPlayers):\n",
        "  name = input('Enter the name of the participant ')\n",
        "  participants.append(name)\n",
        "import random\n",
        "n = random.randint(0,maxPlayers-1)\n",
        "print(\"The WINNER IS \",participants[n])"
      ],
      "execution_count": 17,
      "outputs": [
        {
          "output_type": "stream",
          "text": [
            "Enter how many participants are playing the lottery 5\n",
            "Enter the name of the participant madara\n",
            "Enter the name of the participant itachi\n",
            "Enter the name of the participant shishue\n",
            "Enter the name of the participant sasuke\n",
            "Enter the name of the participant kakashi\n",
            "The WINNER IS  kakashi\n"
          ],
          "name": "stdout"
        }
      ]
    }
  ]
}